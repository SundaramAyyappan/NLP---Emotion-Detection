{
 "cells": [
  {
   "cell_type": "code",
   "execution_count": 1,
   "id": "d7842350",
   "metadata": {},
   "outputs": [],
   "source": [
    "import pandas as pd \n",
    "import numpy as np"
   ]
  },
  {
   "cell_type": "code",
   "execution_count": 2,
   "id": "a2fb2cea",
   "metadata": {},
   "outputs": [
    {
     "data": {
      "text/html": [
       "<div>\n",
       "<style scoped>\n",
       "    .dataframe tbody tr th:only-of-type {\n",
       "        vertical-align: middle;\n",
       "    }\n",
       "\n",
       "    .dataframe tbody tr th {\n",
       "        vertical-align: top;\n",
       "    }\n",
       "\n",
       "    .dataframe thead th {\n",
       "        text-align: right;\n",
       "    }\n",
       "</style>\n",
       "<table border=\"1\" class=\"dataframe\">\n",
       "  <thead>\n",
       "    <tr style=\"text-align: right;\">\n",
       "      <th></th>\n",
       "      <th>Label</th>\n",
       "      <th>Comments</th>\n",
       "    </tr>\n",
       "  </thead>\n",
       "  <tbody>\n",
       "    <tr>\n",
       "      <th>0</th>\n",
       "      <td>Negative</td>\n",
       "      <td>Enna da ellam avan seyal  Mari iruku</td>\n",
       "    </tr>\n",
       "    <tr>\n",
       "      <th>1</th>\n",
       "      <td>Negative</td>\n",
       "      <td>This movei is just like  ellam avan seyal</td>\n",
       "    </tr>\n",
       "    <tr>\n",
       "      <th>2</th>\n",
       "      <td>Positive</td>\n",
       "      <td>Padam vanthathum 13k dislike pottavaga yellam...</td>\n",
       "    </tr>\n",
       "    <tr>\n",
       "      <th>3</th>\n",
       "      <td>Positive</td>\n",
       "      <td>Neraya neraya neraya... ... V era level...thala</td>\n",
       "    </tr>\n",
       "    <tr>\n",
       "      <th>4</th>\n",
       "      <td>Positive</td>\n",
       "      <td>wow thavala sema mass....padam oru pundaikum ...</td>\n",
       "    </tr>\n",
       "    <tr>\n",
       "      <th>...</th>\n",
       "      <td>...</td>\n",
       "      <td>...</td>\n",
       "    </tr>\n",
       "    <tr>\n",
       "      <th>15739</th>\n",
       "      <td>Mixed_feelings</td>\n",
       "      <td>ivaru cinemala laam nalla tha prasuraaru...aa...</td>\n",
       "    </tr>\n",
       "    <tr>\n",
       "      <th>15740</th>\n",
       "      <td>Positive</td>\n",
       "      <td>Pattaya Kilaputhupaa trailer... !!!!! Get Raj...</td>\n",
       "    </tr>\n",
       "    <tr>\n",
       "      <th>15741</th>\n",
       "      <td>Mixed_feelings</td>\n",
       "      <td>En innum trending la varala? Ennada panringa ...</td>\n",
       "    </tr>\n",
       "    <tr>\n",
       "      <th>15742</th>\n",
       "      <td>not-Tamil</td>\n",
       "      <td>Rajnikant sir plz aap india ke pm ban jaao</td>\n",
       "    </tr>\n",
       "    <tr>\n",
       "      <th>15743</th>\n",
       "      <td>Mixed_feelings</td>\n",
       "      <td>Enagada YouTube inum trending la add panama i...</td>\n",
       "    </tr>\n",
       "  </tbody>\n",
       "</table>\n",
       "<p>15744 rows × 2 columns</p>\n",
       "</div>"
      ],
      "text/plain": [
       "                 Label                                           Comments\n",
       "0            Negative                Enna da ellam avan seyal  Mari iruku\n",
       "1            Negative           This movei is just like  ellam avan seyal\n",
       "2            Positive    Padam vanthathum 13k dislike pottavaga yellam...\n",
       "3            Positive     Neraya neraya neraya... ... V era level...thala\n",
       "4            Positive    wow thavala sema mass....padam oru pundaikum ...\n",
       "...                ...                                                ...\n",
       "15739  Mixed_feelings    ivaru cinemala laam nalla tha prasuraaru...aa...\n",
       "15740        Positive    Pattaya Kilaputhupaa trailer... !!!!! Get Raj...\n",
       "15741  Mixed_feelings    En innum trending la varala? Ennada panringa ...\n",
       "15742       not-Tamil          Rajnikant sir plz aap india ke pm ban jaao\n",
       "15743  Mixed_feelings    Enagada YouTube inum trending la add panama i...\n",
       "\n",
       "[15744 rows x 2 columns]"
      ]
     },
     "execution_count": 2,
     "metadata": {},
     "output_type": "execute_result"
    }
   ],
   "source": [
    "df = pd.read_csv(\"E:/Userfiles/Download/archive/Tamil_sentiments.csv\",on_bad_lines='skip', sep = \"\\t\", names=[\"Label\",\"Comments\"])\n",
    "df"
   ]
  },
  {
   "cell_type": "code",
   "execution_count": 3,
   "id": "79284b61",
   "metadata": {},
   "outputs": [
    {
     "data": {
      "text/plain": [
       "Index(['Label', 'Comments'], dtype='object')"
      ]
     },
     "execution_count": 3,
     "metadata": {},
     "output_type": "execute_result"
    }
   ],
   "source": [
    "df.columns"
   ]
  },
  {
   "cell_type": "code",
   "execution_count": 4,
   "id": "319271e7",
   "metadata": {},
   "outputs": [],
   "source": [
    "df1= df.drop(['Label'], axis = 1)"
   ]
  },
  {
   "cell_type": "code",
   "execution_count": 5,
   "id": "daeaad88",
   "metadata": {},
   "outputs": [],
   "source": [
    "df1 = df1.iloc[:5000, :]"
   ]
  },
  {
   "cell_type": "code",
   "execution_count": 6,
   "id": "c15d8813",
   "metadata": {},
   "outputs": [
    {
     "data": {
      "text/html": [
       "<div>\n",
       "<style scoped>\n",
       "    .dataframe tbody tr th:only-of-type {\n",
       "        vertical-align: middle;\n",
       "    }\n",
       "\n",
       "    .dataframe tbody tr th {\n",
       "        vertical-align: top;\n",
       "    }\n",
       "\n",
       "    .dataframe thead th {\n",
       "        text-align: right;\n",
       "    }\n",
       "</style>\n",
       "<table border=\"1\" class=\"dataframe\">\n",
       "  <thead>\n",
       "    <tr style=\"text-align: right;\">\n",
       "      <th></th>\n",
       "      <th>Comments</th>\n",
       "    </tr>\n",
       "  </thead>\n",
       "  <tbody>\n",
       "    <tr>\n",
       "      <th>0</th>\n",
       "      <td>Enna da ellam avan seyal  Mari iruku</td>\n",
       "    </tr>\n",
       "    <tr>\n",
       "      <th>1</th>\n",
       "      <td>This movei is just like  ellam avan seyal</td>\n",
       "    </tr>\n",
       "    <tr>\n",
       "      <th>2</th>\n",
       "      <td>Padam vanthathum 13k dislike pottavaga yellam...</td>\n",
       "    </tr>\n",
       "    <tr>\n",
       "      <th>3</th>\n",
       "      <td>Neraya neraya neraya... ... V era level...thala</td>\n",
       "    </tr>\n",
       "    <tr>\n",
       "      <th>4</th>\n",
       "      <td>wow thavala sema mass....padam oru pundaikum ...</td>\n",
       "    </tr>\n",
       "    <tr>\n",
       "      <th>...</th>\n",
       "      <td>...</td>\n",
       "    </tr>\n",
       "    <tr>\n",
       "      <th>4995</th>\n",
       "      <td>Màráñã Mass ..... Thalaivaaa .    Sweet edung...</td>\n",
       "    </tr>\n",
       "    <tr>\n",
       "      <th>4996</th>\n",
       "      <td>Sirapana tharamana sambavam Iruku Ponugaluku....</td>\n",
       "    </tr>\n",
       "    <tr>\n",
       "      <th>4997</th>\n",
       "      <td>Athana haters um odi poidunga , illa adichi u...</td>\n",
       "    </tr>\n",
       "    <tr>\n",
       "      <th>4998</th>\n",
       "      <td>Sweet sapta porom....last dance semma</td>\n",
       "    </tr>\n",
       "    <tr>\n",
       "      <th>4999</th>\n",
       "      <td>Thalaivar varrarru... Podiyanugkellam odidu.....</td>\n",
       "    </tr>\n",
       "  </tbody>\n",
       "</table>\n",
       "<p>5000 rows × 1 columns</p>\n",
       "</div>"
      ],
      "text/plain": [
       "                                               Comments\n",
       "0                  Enna da ellam avan seyal  Mari iruku\n",
       "1             This movei is just like  ellam avan seyal\n",
       "2      Padam vanthathum 13k dislike pottavaga yellam...\n",
       "3       Neraya neraya neraya... ... V era level...thala\n",
       "4      wow thavala sema mass....padam oru pundaikum ...\n",
       "...                                                 ...\n",
       "4995   Màráñã Mass ..... Thalaivaaa .    Sweet edung...\n",
       "4996   Sirapana tharamana sambavam Iruku Ponugaluku....\n",
       "4997   Athana haters um odi poidunga , illa adichi u...\n",
       "4998              Sweet sapta porom....last dance semma\n",
       "4999   Thalaivar varrarru... Podiyanugkellam odidu.....\n",
       "\n",
       "[5000 rows x 1 columns]"
      ]
     },
     "execution_count": 6,
     "metadata": {},
     "output_type": "execute_result"
    }
   ],
   "source": [
    "df1"
   ]
  },
  {
   "cell_type": "code",
   "execution_count": 7,
   "id": "4ad90ee2",
   "metadata": {},
   "outputs": [
    {
     "data": {
      "text/plain": [
       "Comments    0\n",
       "dtype: int64"
      ]
     },
     "execution_count": 7,
     "metadata": {},
     "output_type": "execute_result"
    }
   ],
   "source": [
    "df1.isnull().sum()"
   ]
  },
  {
   "cell_type": "code",
   "execution_count": 8,
   "id": "b203c920",
   "metadata": {},
   "outputs": [],
   "source": [
    "import string\n",
    "import re   \n",
    "import nltk\n",
    "from nltk.corpus import stopwords"
   ]
  },
  {
   "cell_type": "code",
   "execution_count": 9,
   "id": "af4e4610",
   "metadata": {},
   "outputs": [],
   "source": [
    "stemmer_func = nltk.stem.snowball.SnowballStemmer(\"english\").stem"
   ]
  },
  {
   "cell_type": "code",
   "execution_count": 10,
   "id": "47bedcc1",
   "metadata": {},
   "outputs": [],
   "source": [
    "from nltk.stem.wordnet import WordNetLemmatizer "
   ]
  },
  {
   "cell_type": "code",
   "execution_count": 11,
   "id": "d26c8b79",
   "metadata": {},
   "outputs": [],
   "source": [
    "lemmatizer = WordNetLemmatizer()"
   ]
  },
  {
   "cell_type": "code",
   "execution_count": 12,
   "id": "3430324a",
   "metadata": {},
   "outputs": [
    {
     "name": "stderr",
     "output_type": "stream",
     "text": [
      "[nltk_data] Downloading package stopwords to\n",
      "[nltk_data]     C:\\Users\\Priya\\AppData\\Roaming\\nltk_data...\n",
      "[nltk_data]   Package stopwords is already up-to-date!\n"
     ]
    }
   ],
   "source": [
    "nltk.download('stopwords')\n",
    "stop = set(stopwords.words('english'))"
   ]
  },
  {
   "cell_type": "code",
   "execution_count": 13,
   "id": "f38633da",
   "metadata": {},
   "outputs": [],
   "source": [
    "def pre_process(text):\n",
    "    text = str(text).lower()\n",
    "    text = re.sub(r\"[-()\\\"#/@;:{}`+=~|.!?,'0-9]\", \"\", text)\n",
    "    text = re.sub('https?://\\S+|www\\.\\S+', '', text)\n",
    "    text = re.sub('<.*?>+', '', text)\n",
    "    text = re.sub('[%s]' % re.escape(string.punctuation), '', text)\n",
    "    text = re.sub('\\n', '', text)\n",
    "    text = re.sub('\\w*\\d\\w*', '', text)\n",
    "    text = [word for word in text.split(' ') if word not in stop]\n",
    "    text=\" \".join(text)\n",
    "    text = [stemmer_func(word) for word in text.split(' ')]\n",
    "    text=\" \".join(text)\n",
    "    return text"
   ]
  },
  {
   "cell_type": "code",
   "execution_count": 14,
   "id": "9e421792",
   "metadata": {},
   "outputs": [],
   "source": [
    "df1['clean_text'] = df1['Comments'].apply(lambda x: pre_process(x))"
   ]
  },
  {
   "cell_type": "code",
   "execution_count": 15,
   "id": "cf4bf631",
   "metadata": {},
   "outputs": [],
   "source": [
    "data = pd.DataFrame(df1)"
   ]
  },
  {
   "cell_type": "code",
   "execution_count": 16,
   "id": "ed8da5a5",
   "metadata": {},
   "outputs": [
    {
     "data": {
      "text/html": [
       "<div>\n",
       "<style scoped>\n",
       "    .dataframe tbody tr th:only-of-type {\n",
       "        vertical-align: middle;\n",
       "    }\n",
       "\n",
       "    .dataframe tbody tr th {\n",
       "        vertical-align: top;\n",
       "    }\n",
       "\n",
       "    .dataframe thead th {\n",
       "        text-align: right;\n",
       "    }\n",
       "</style>\n",
       "<table border=\"1\" class=\"dataframe\">\n",
       "  <thead>\n",
       "    <tr style=\"text-align: right;\">\n",
       "      <th></th>\n",
       "      <th>Comments</th>\n",
       "      <th>clean_text</th>\n",
       "    </tr>\n",
       "  </thead>\n",
       "  <tbody>\n",
       "    <tr>\n",
       "      <th>0</th>\n",
       "      <td>Enna da ellam avan seyal  Mari iruku</td>\n",
       "      <td>enna da ellam avan seyal  mari iruku</td>\n",
       "    </tr>\n",
       "    <tr>\n",
       "      <th>1</th>\n",
       "      <td>This movei is just like  ellam avan seyal</td>\n",
       "      <td>movei like  ellam avan seyal</td>\n",
       "    </tr>\n",
       "    <tr>\n",
       "      <th>2</th>\n",
       "      <td>Padam vanthathum 13k dislike pottavaga yellam...</td>\n",
       "      <td>padam vanthathum k dislik pottavaga yellam ye...</td>\n",
       "    </tr>\n",
       "    <tr>\n",
       "      <th>3</th>\n",
       "      <td>Neraya neraya neraya... ... V era level...thala</td>\n",
       "      <td>neraya neraya neraya  v era levelthala</td>\n",
       "    </tr>\n",
       "    <tr>\n",
       "      <th>4</th>\n",
       "      <td>wow thavala sema mass....padam oru pundaikum ...</td>\n",
       "      <td>wow thavala sema masspadam oru pundaikum aagathu</td>\n",
       "    </tr>\n",
       "    <tr>\n",
       "      <th>...</th>\n",
       "      <td>...</td>\n",
       "      <td>...</td>\n",
       "    </tr>\n",
       "    <tr>\n",
       "      <th>4995</th>\n",
       "      <td>Màráñã Mass ..... Thalaivaaa .    Sweet edung...</td>\n",
       "      <td>màráñã mass  thalaivaaa     sweet edunga kond...</td>\n",
       "    </tr>\n",
       "    <tr>\n",
       "      <th>4996</th>\n",
       "      <td>Sirapana tharamana sambavam Iruku Ponugaluku....</td>\n",
       "      <td>sirapana tharamana sambavam iruku ponugaluku ...</td>\n",
       "    </tr>\n",
       "    <tr>\n",
       "      <th>4997</th>\n",
       "      <td>Athana haters um odi poidunga , illa adichi u...</td>\n",
       "      <td>athana hater um odi poidunga  illa adichi und...</td>\n",
       "    </tr>\n",
       "    <tr>\n",
       "      <th>4998</th>\n",
       "      <td>Sweet sapta porom....last dance semma</td>\n",
       "      <td>sweet sapta poromlast danc semma</td>\n",
       "    </tr>\n",
       "    <tr>\n",
       "      <th>4999</th>\n",
       "      <td>Thalaivar varrarru... Podiyanugkellam odidu.....</td>\n",
       "      <td>thalaivar varrarru podiyanugkellam odidu adic...</td>\n",
       "    </tr>\n",
       "  </tbody>\n",
       "</table>\n",
       "<p>5000 rows × 2 columns</p>\n",
       "</div>"
      ],
      "text/plain": [
       "                                               Comments  \\\n",
       "0                  Enna da ellam avan seyal  Mari iruku   \n",
       "1             This movei is just like  ellam avan seyal   \n",
       "2      Padam vanthathum 13k dislike pottavaga yellam...   \n",
       "3       Neraya neraya neraya... ... V era level...thala   \n",
       "4      wow thavala sema mass....padam oru pundaikum ...   \n",
       "...                                                 ...   \n",
       "4995   Màráñã Mass ..... Thalaivaaa .    Sweet edung...   \n",
       "4996   Sirapana tharamana sambavam Iruku Ponugaluku....   \n",
       "4997   Athana haters um odi poidunga , illa adichi u...   \n",
       "4998              Sweet sapta porom....last dance semma   \n",
       "4999   Thalaivar varrarru... Podiyanugkellam odidu.....   \n",
       "\n",
       "                                             clean_text  \n",
       "0                  enna da ellam avan seyal  mari iruku  \n",
       "1                          movei like  ellam avan seyal  \n",
       "2      padam vanthathum k dislik pottavaga yellam ye...  \n",
       "3                neraya neraya neraya  v era levelthala  \n",
       "4      wow thavala sema masspadam oru pundaikum aagathu  \n",
       "...                                                 ...  \n",
       "4995   màráñã mass  thalaivaaa     sweet edunga kond...  \n",
       "4996   sirapana tharamana sambavam iruku ponugaluku ...  \n",
       "4997   athana hater um odi poidunga  illa adichi und...  \n",
       "4998                   sweet sapta poromlast danc semma  \n",
       "4999   thalaivar varrarru podiyanugkellam odidu adic...  \n",
       "\n",
       "[5000 rows x 2 columns]"
      ]
     },
     "execution_count": 16,
     "metadata": {},
     "output_type": "execute_result"
    }
   ],
   "source": [
    "data"
   ]
  },
  {
   "cell_type": "code",
   "execution_count": 17,
   "id": "e5d15989",
   "metadata": {},
   "outputs": [
    {
     "name": "stderr",
     "output_type": "stream",
     "text": [
      "[nltk_data] Downloading package punkt to\n",
      "[nltk_data]     C:\\Users\\Priya\\AppData\\Roaming\\nltk_data...\n",
      "[nltk_data]   Package punkt is already up-to-date!\n"
     ]
    },
    {
     "data": {
      "text/plain": [
       "True"
      ]
     },
     "execution_count": 17,
     "metadata": {},
     "output_type": "execute_result"
    }
   ],
   "source": [
    "import nltk\n",
    "nltk.download('punkt')"
   ]
  },
  {
   "cell_type": "code",
   "execution_count": 18,
   "id": "7f67d241",
   "metadata": {},
   "outputs": [],
   "source": [
    "from nltk.tokenize import word_tokenize"
   ]
  },
  {
   "cell_type": "code",
   "execution_count": 19,
   "id": "f1663da9",
   "metadata": {},
   "outputs": [],
   "source": [
    "data['token_text'] = data['clean_text'].apply(word_tokenize)"
   ]
  },
  {
   "cell_type": "code",
   "execution_count": 20,
   "id": "dde3bdc8",
   "metadata": {},
   "outputs": [],
   "source": [
    "def lemma(text):\n",
    "    lemma_token = \" \"\n",
    "    for word in text:\n",
    "        lemma = word\n",
    "        lemma_token = lemma_token + \" \" + lemma\n",
    "    return lemma_token"
   ]
  },
  {
   "cell_type": "code",
   "execution_count": 21,
   "id": "496af2e4",
   "metadata": {},
   "outputs": [
    {
     "data": {
      "text/html": [
       "<div>\n",
       "<style scoped>\n",
       "    .dataframe tbody tr th:only-of-type {\n",
       "        vertical-align: middle;\n",
       "    }\n",
       "\n",
       "    .dataframe tbody tr th {\n",
       "        vertical-align: top;\n",
       "    }\n",
       "\n",
       "    .dataframe thead th {\n",
       "        text-align: right;\n",
       "    }\n",
       "</style>\n",
       "<table border=\"1\" class=\"dataframe\">\n",
       "  <thead>\n",
       "    <tr style=\"text-align: right;\">\n",
       "      <th></th>\n",
       "      <th>Comments</th>\n",
       "      <th>clean_text</th>\n",
       "      <th>token_text</th>\n",
       "      <th>Lemma_text</th>\n",
       "    </tr>\n",
       "  </thead>\n",
       "  <tbody>\n",
       "    <tr>\n",
       "      <th>0</th>\n",
       "      <td>Enna da ellam avan seyal  Mari iruku</td>\n",
       "      <td>enna da ellam avan seyal  mari iruku</td>\n",
       "      <td>[enna, da, ellam, avan, seyal, mari, iruku]</td>\n",
       "      <td>enna da ellam avan seyal mari iruku</td>\n",
       "    </tr>\n",
       "    <tr>\n",
       "      <th>1</th>\n",
       "      <td>This movei is just like  ellam avan seyal</td>\n",
       "      <td>movei like  ellam avan seyal</td>\n",
       "      <td>[movei, like, ellam, avan, seyal]</td>\n",
       "      <td>movei like ellam avan seyal</td>\n",
       "    </tr>\n",
       "    <tr>\n",
       "      <th>2</th>\n",
       "      <td>Padam vanthathum 13k dislike pottavaga yellam...</td>\n",
       "      <td>padam vanthathum k dislik pottavaga yellam ye...</td>\n",
       "      <td>[padam, vanthathum, k, dislik, pottavaga, yell...</td>\n",
       "      <td>padam vanthathum k dislik pottavaga yellam y...</td>\n",
       "    </tr>\n",
       "    <tr>\n",
       "      <th>3</th>\n",
       "      <td>Neraya neraya neraya... ... V era level...thala</td>\n",
       "      <td>neraya neraya neraya  v era levelthala</td>\n",
       "      <td>[neraya, neraya, neraya, v, era, levelthala]</td>\n",
       "      <td>neraya neraya neraya v era levelthala</td>\n",
       "    </tr>\n",
       "    <tr>\n",
       "      <th>4</th>\n",
       "      <td>wow thavala sema mass....padam oru pundaikum ...</td>\n",
       "      <td>wow thavala sema masspadam oru pundaikum aagathu</td>\n",
       "      <td>[wow, thavala, sema, masspadam, oru, pundaikum...</td>\n",
       "      <td>wow thavala sema masspadam oru pundaikum aag...</td>\n",
       "    </tr>\n",
       "  </tbody>\n",
       "</table>\n",
       "</div>"
      ],
      "text/plain": [
       "                                            Comments  \\\n",
       "0               Enna da ellam avan seyal  Mari iruku   \n",
       "1          This movei is just like  ellam avan seyal   \n",
       "2   Padam vanthathum 13k dislike pottavaga yellam...   \n",
       "3    Neraya neraya neraya... ... V era level...thala   \n",
       "4   wow thavala sema mass....padam oru pundaikum ...   \n",
       "\n",
       "                                          clean_text  \\\n",
       "0               enna da ellam avan seyal  mari iruku   \n",
       "1                       movei like  ellam avan seyal   \n",
       "2   padam vanthathum k dislik pottavaga yellam ye...   \n",
       "3             neraya neraya neraya  v era levelthala   \n",
       "4   wow thavala sema masspadam oru pundaikum aagathu   \n",
       "\n",
       "                                          token_text  \\\n",
       "0        [enna, da, ellam, avan, seyal, mari, iruku]   \n",
       "1                  [movei, like, ellam, avan, seyal]   \n",
       "2  [padam, vanthathum, k, dislik, pottavaga, yell...   \n",
       "3       [neraya, neraya, neraya, v, era, levelthala]   \n",
       "4  [wow, thavala, sema, masspadam, oru, pundaikum...   \n",
       "\n",
       "                                          Lemma_text  \n",
       "0                enna da ellam avan seyal mari iruku  \n",
       "1                        movei like ellam avan seyal  \n",
       "2    padam vanthathum k dislik pottavaga yellam y...  \n",
       "3              neraya neraya neraya v era levelthala  \n",
       "4    wow thavala sema masspadam oru pundaikum aag...  "
      ]
     },
     "execution_count": 21,
     "metadata": {},
     "output_type": "execute_result"
    }
   ],
   "source": [
    "data['Lemma_text'] = data['token_text'].apply(lemma)\n",
    "data.head()"
   ]
  },
  {
   "cell_type": "markdown",
   "id": "a4f148d5",
   "metadata": {},
   "source": [
    "## Sentimental Analysis"
   ]
  },
  {
   "cell_type": "code",
   "execution_count": 22,
   "id": "194b16db",
   "metadata": {},
   "outputs": [],
   "source": [
    "from textblob import TextBlob"
   ]
  },
  {
   "cell_type": "code",
   "execution_count": 23,
   "id": "da887aef",
   "metadata": {},
   "outputs": [
    {
     "data": {
      "text/html": [
       "<div>\n",
       "<style scoped>\n",
       "    .dataframe tbody tr th:only-of-type {\n",
       "        vertical-align: middle;\n",
       "    }\n",
       "\n",
       "    .dataframe tbody tr th {\n",
       "        vertical-align: top;\n",
       "    }\n",
       "\n",
       "    .dataframe thead th {\n",
       "        text-align: right;\n",
       "    }\n",
       "</style>\n",
       "<table border=\"1\" class=\"dataframe\">\n",
       "  <thead>\n",
       "    <tr style=\"text-align: right;\">\n",
       "      <th></th>\n",
       "      <th>Comments</th>\n",
       "      <th>clean_text</th>\n",
       "      <th>token_text</th>\n",
       "      <th>Lemma_text</th>\n",
       "      <th>subjectivity</th>\n",
       "    </tr>\n",
       "  </thead>\n",
       "  <tbody>\n",
       "    <tr>\n",
       "      <th>0</th>\n",
       "      <td>Enna da ellam avan seyal  Mari iruku</td>\n",
       "      <td>enna da ellam avan seyal  mari iruku</td>\n",
       "      <td>[enna, da, ellam, avan, seyal, mari, iruku]</td>\n",
       "      <td>enna da ellam avan seyal mari iruku</td>\n",
       "      <td>0.00</td>\n",
       "    </tr>\n",
       "    <tr>\n",
       "      <th>1</th>\n",
       "      <td>This movei is just like  ellam avan seyal</td>\n",
       "      <td>movei like  ellam avan seyal</td>\n",
       "      <td>[movei, like, ellam, avan, seyal]</td>\n",
       "      <td>movei like ellam avan seyal</td>\n",
       "      <td>0.00</td>\n",
       "    </tr>\n",
       "    <tr>\n",
       "      <th>2</th>\n",
       "      <td>Padam vanthathum 13k dislike pottavaga yellam...</td>\n",
       "      <td>padam vanthathum k dislik pottavaga yellam ye...</td>\n",
       "      <td>[padam, vanthathum, k, dislik, pottavaga, yell...</td>\n",
       "      <td>padam vanthathum k dislik pottavaga yellam y...</td>\n",
       "      <td>0.00</td>\n",
       "    </tr>\n",
       "    <tr>\n",
       "      <th>3</th>\n",
       "      <td>Neraya neraya neraya... ... V era level...thala</td>\n",
       "      <td>neraya neraya neraya  v era levelthala</td>\n",
       "      <td>[neraya, neraya, neraya, v, era, levelthala]</td>\n",
       "      <td>neraya neraya neraya v era levelthala</td>\n",
       "      <td>0.00</td>\n",
       "    </tr>\n",
       "    <tr>\n",
       "      <th>4</th>\n",
       "      <td>wow thavala sema mass....padam oru pundaikum ...</td>\n",
       "      <td>wow thavala sema masspadam oru pundaikum aagathu</td>\n",
       "      <td>[wow, thavala, sema, masspadam, oru, pundaikum...</td>\n",
       "      <td>wow thavala sema masspadam oru pundaikum aag...</td>\n",
       "      <td>1.00</td>\n",
       "    </tr>\n",
       "    <tr>\n",
       "      <th>...</th>\n",
       "      <td>...</td>\n",
       "      <td>...</td>\n",
       "      <td>...</td>\n",
       "      <td>...</td>\n",
       "      <td>...</td>\n",
       "    </tr>\n",
       "    <tr>\n",
       "      <th>4995</th>\n",
       "      <td>Màráñã Mass ..... Thalaivaaa .    Sweet edung...</td>\n",
       "      <td>màráñã mass  thalaivaaa     sweet edunga kond...</td>\n",
       "      <td>[màráñã, mass, thalaivaaa, sweet, edunga, kond...</td>\n",
       "      <td>màráñã mass thalaivaaa sweet edunga kondadung</td>\n",
       "      <td>0.65</td>\n",
       "    </tr>\n",
       "    <tr>\n",
       "      <th>4996</th>\n",
       "      <td>Sirapana tharamana sambavam Iruku Ponugaluku....</td>\n",
       "      <td>sirapana tharamana sambavam iruku ponugaluku ...</td>\n",
       "      <td>[sirapana, tharamana, sambavam, iruku, ponugal...</td>\n",
       "      <td>sirapana tharamana sambavam iruku ponugaluku...</td>\n",
       "      <td>0.00</td>\n",
       "    </tr>\n",
       "    <tr>\n",
       "      <th>4997</th>\n",
       "      <td>Athana haters um odi poidunga , illa adichi u...</td>\n",
       "      <td>athana hater um odi poidunga  illa adichi und...</td>\n",
       "      <td>[athana, hater, um, odi, poidunga, illa, adich...</td>\n",
       "      <td>athana hater um odi poidunga illa adichi und...</td>\n",
       "      <td>0.00</td>\n",
       "    </tr>\n",
       "    <tr>\n",
       "      <th>4998</th>\n",
       "      <td>Sweet sapta porom....last dance semma</td>\n",
       "      <td>sweet sapta poromlast danc semma</td>\n",
       "      <td>[sweet, sapta, poromlast, danc, semma]</td>\n",
       "      <td>sweet sapta poromlast danc semma</td>\n",
       "      <td>0.65</td>\n",
       "    </tr>\n",
       "    <tr>\n",
       "      <th>4999</th>\n",
       "      <td>Thalaivar varrarru... Podiyanugkellam odidu.....</td>\n",
       "      <td>thalaivar varrarru podiyanugkellam odidu adic...</td>\n",
       "      <td>[thalaivar, varrarru, podiyanugkellam, odidu, ...</td>\n",
       "      <td>thalaivar varrarru podiyanugkellam odidu adi...</td>\n",
       "      <td>0.00</td>\n",
       "    </tr>\n",
       "  </tbody>\n",
       "</table>\n",
       "<p>5000 rows × 5 columns</p>\n",
       "</div>"
      ],
      "text/plain": [
       "                                               Comments  \\\n",
       "0                  Enna da ellam avan seyal  Mari iruku   \n",
       "1             This movei is just like  ellam avan seyal   \n",
       "2      Padam vanthathum 13k dislike pottavaga yellam...   \n",
       "3       Neraya neraya neraya... ... V era level...thala   \n",
       "4      wow thavala sema mass....padam oru pundaikum ...   \n",
       "...                                                 ...   \n",
       "4995   Màráñã Mass ..... Thalaivaaa .    Sweet edung...   \n",
       "4996   Sirapana tharamana sambavam Iruku Ponugaluku....   \n",
       "4997   Athana haters um odi poidunga , illa adichi u...   \n",
       "4998              Sweet sapta porom....last dance semma   \n",
       "4999   Thalaivar varrarru... Podiyanugkellam odidu.....   \n",
       "\n",
       "                                             clean_text  \\\n",
       "0                  enna da ellam avan seyal  mari iruku   \n",
       "1                          movei like  ellam avan seyal   \n",
       "2      padam vanthathum k dislik pottavaga yellam ye...   \n",
       "3                neraya neraya neraya  v era levelthala   \n",
       "4      wow thavala sema masspadam oru pundaikum aagathu   \n",
       "...                                                 ...   \n",
       "4995   màráñã mass  thalaivaaa     sweet edunga kond...   \n",
       "4996   sirapana tharamana sambavam iruku ponugaluku ...   \n",
       "4997   athana hater um odi poidunga  illa adichi und...   \n",
       "4998                   sweet sapta poromlast danc semma   \n",
       "4999   thalaivar varrarru podiyanugkellam odidu adic...   \n",
       "\n",
       "                                             token_text  \\\n",
       "0           [enna, da, ellam, avan, seyal, mari, iruku]   \n",
       "1                     [movei, like, ellam, avan, seyal]   \n",
       "2     [padam, vanthathum, k, dislik, pottavaga, yell...   \n",
       "3          [neraya, neraya, neraya, v, era, levelthala]   \n",
       "4     [wow, thavala, sema, masspadam, oru, pundaikum...   \n",
       "...                                                 ...   \n",
       "4995  [màráñã, mass, thalaivaaa, sweet, edunga, kond...   \n",
       "4996  [sirapana, tharamana, sambavam, iruku, ponugal...   \n",
       "4997  [athana, hater, um, odi, poidunga, illa, adich...   \n",
       "4998             [sweet, sapta, poromlast, danc, semma]   \n",
       "4999  [thalaivar, varrarru, podiyanugkellam, odidu, ...   \n",
       "\n",
       "                                             Lemma_text  subjectivity  \n",
       "0                   enna da ellam avan seyal mari iruku          0.00  \n",
       "1                           movei like ellam avan seyal          0.00  \n",
       "2       padam vanthathum k dislik pottavaga yellam y...          0.00  \n",
       "3                 neraya neraya neraya v era levelthala          0.00  \n",
       "4       wow thavala sema masspadam oru pundaikum aag...          1.00  \n",
       "...                                                 ...           ...  \n",
       "4995      màráñã mass thalaivaaa sweet edunga kondadung          0.65  \n",
       "4996    sirapana tharamana sambavam iruku ponugaluku...          0.00  \n",
       "4997    athana hater um odi poidunga illa adichi und...          0.00  \n",
       "4998                   sweet sapta poromlast danc semma          0.65  \n",
       "4999    thalaivar varrarru podiyanugkellam odidu adi...          0.00  \n",
       "\n",
       "[5000 rows x 5 columns]"
      ]
     },
     "execution_count": 23,
     "metadata": {},
     "output_type": "execute_result"
    }
   ],
   "source": [
    "data['subjectivity'] = data[\"Lemma_text\"].apply(lambda x: TextBlob(x).sentiment.subjectivity )\n",
    "data"
   ]
  },
  {
   "cell_type": "code",
   "execution_count": 24,
   "id": "2939646a",
   "metadata": {},
   "outputs": [],
   "source": [
    "def sentiment_analysis(subjectivity):\n",
    "    if subjectivity > 0:\n",
    "        return 'Positive'\n",
    "    elif subjectivity == 0:\n",
    "        return 'Neutral'\n",
    "    else:\n",
    "        return 'Negative'"
   ]
  },
  {
   "cell_type": "code",
   "execution_count": 25,
   "id": "483e1d1c",
   "metadata": {},
   "outputs": [],
   "source": [
    "data['sub'] = data['subjectivity'].apply(sentiment_analysis)"
   ]
  },
  {
   "cell_type": "code",
   "execution_count": 26,
   "id": "9ea8c8d7",
   "metadata": {},
   "outputs": [
    {
     "data": {
      "text/html": [
       "<div>\n",
       "<style scoped>\n",
       "    .dataframe tbody tr th:only-of-type {\n",
       "        vertical-align: middle;\n",
       "    }\n",
       "\n",
       "    .dataframe tbody tr th {\n",
       "        vertical-align: top;\n",
       "    }\n",
       "\n",
       "    .dataframe thead th {\n",
       "        text-align: right;\n",
       "    }\n",
       "</style>\n",
       "<table border=\"1\" class=\"dataframe\">\n",
       "  <thead>\n",
       "    <tr style=\"text-align: right;\">\n",
       "      <th></th>\n",
       "      <th>Comments</th>\n",
       "      <th>sub</th>\n",
       "    </tr>\n",
       "  </thead>\n",
       "  <tbody>\n",
       "    <tr>\n",
       "      <th>0</th>\n",
       "      <td>Enna da ellam avan seyal  Mari iruku</td>\n",
       "      <td>Neutral</td>\n",
       "    </tr>\n",
       "    <tr>\n",
       "      <th>1</th>\n",
       "      <td>This movei is just like  ellam avan seyal</td>\n",
       "      <td>Neutral</td>\n",
       "    </tr>\n",
       "    <tr>\n",
       "      <th>2</th>\n",
       "      <td>Padam vanthathum 13k dislike pottavaga yellam...</td>\n",
       "      <td>Neutral</td>\n",
       "    </tr>\n",
       "    <tr>\n",
       "      <th>3</th>\n",
       "      <td>Neraya neraya neraya... ... V era level...thala</td>\n",
       "      <td>Neutral</td>\n",
       "    </tr>\n",
       "    <tr>\n",
       "      <th>4</th>\n",
       "      <td>wow thavala sema mass....padam oru pundaikum ...</td>\n",
       "      <td>Positive</td>\n",
       "    </tr>\n",
       "    <tr>\n",
       "      <th>...</th>\n",
       "      <td>...</td>\n",
       "      <td>...</td>\n",
       "    </tr>\n",
       "    <tr>\n",
       "      <th>4995</th>\n",
       "      <td>Màráñã Mass ..... Thalaivaaa .    Sweet edung...</td>\n",
       "      <td>Positive</td>\n",
       "    </tr>\n",
       "    <tr>\n",
       "      <th>4996</th>\n",
       "      <td>Sirapana tharamana sambavam Iruku Ponugaluku....</td>\n",
       "      <td>Neutral</td>\n",
       "    </tr>\n",
       "    <tr>\n",
       "      <th>4997</th>\n",
       "      <td>Athana haters um odi poidunga , illa adichi u...</td>\n",
       "      <td>Neutral</td>\n",
       "    </tr>\n",
       "    <tr>\n",
       "      <th>4998</th>\n",
       "      <td>Sweet sapta porom....last dance semma</td>\n",
       "      <td>Positive</td>\n",
       "    </tr>\n",
       "    <tr>\n",
       "      <th>4999</th>\n",
       "      <td>Thalaivar varrarru... Podiyanugkellam odidu.....</td>\n",
       "      <td>Neutral</td>\n",
       "    </tr>\n",
       "  </tbody>\n",
       "</table>\n",
       "<p>5000 rows × 2 columns</p>\n",
       "</div>"
      ],
      "text/plain": [
       "                                               Comments       sub\n",
       "0                  Enna da ellam avan seyal  Mari iruku   Neutral\n",
       "1             This movei is just like  ellam avan seyal   Neutral\n",
       "2      Padam vanthathum 13k dislike pottavaga yellam...   Neutral\n",
       "3       Neraya neraya neraya... ... V era level...thala   Neutral\n",
       "4      wow thavala sema mass....padam oru pundaikum ...  Positive\n",
       "...                                                 ...       ...\n",
       "4995   Màráñã Mass ..... Thalaivaaa .    Sweet edung...  Positive\n",
       "4996   Sirapana tharamana sambavam Iruku Ponugaluku....   Neutral\n",
       "4997   Athana haters um odi poidunga , illa adichi u...   Neutral\n",
       "4998              Sweet sapta porom....last dance semma  Positive\n",
       "4999   Thalaivar varrarru... Podiyanugkellam odidu.....   Neutral\n",
       "\n",
       "[5000 rows x 2 columns]"
      ]
     },
     "execution_count": 26,
     "metadata": {},
     "output_type": "execute_result"
    }
   ],
   "source": [
    "Subjectivity = data[['Comments','sub']]\n",
    "Subjectivity"
   ]
  },
  {
   "cell_type": "code",
   "execution_count": 27,
   "id": "aea8a4c6",
   "metadata": {},
   "outputs": [
    {
     "name": "stderr",
     "output_type": "stream",
     "text": [
      "C:\\Users\\Priya\\AppData\\Local\\Temp\\ipykernel_6236\\4219733007.py:3: SettingWithCopyWarning: \n",
      "A value is trying to be set on a copy of a slice from a DataFrame.\n",
      "Try using .loc[row_indexer,col_indexer] = value instead\n",
      "\n",
      "See the caveats in the documentation: https://pandas.pydata.org/pandas-docs/stable/user_guide/indexing.html#returning-a-view-versus-a-copy\n",
      "  Subjectivity['sub']=LE.fit_transform(Subjectivity['sub'])\n"
     ]
    }
   ],
   "source": [
    "from sklearn.preprocessing import LabelEncoder\n",
    "LE=LabelEncoder()\n",
    "Subjectivity['sub']=LE.fit_transform(Subjectivity['sub'])"
   ]
  },
  {
   "cell_type": "code",
   "execution_count": 28,
   "id": "9e73b785",
   "metadata": {},
   "outputs": [
    {
     "data": {
      "text/html": [
       "<div>\n",
       "<style scoped>\n",
       "    .dataframe tbody tr th:only-of-type {\n",
       "        vertical-align: middle;\n",
       "    }\n",
       "\n",
       "    .dataframe tbody tr th {\n",
       "        vertical-align: top;\n",
       "    }\n",
       "\n",
       "    .dataframe thead th {\n",
       "        text-align: right;\n",
       "    }\n",
       "</style>\n",
       "<table border=\"1\" class=\"dataframe\">\n",
       "  <thead>\n",
       "    <tr style=\"text-align: right;\">\n",
       "      <th></th>\n",
       "      <th>Comments</th>\n",
       "      <th>sub</th>\n",
       "    </tr>\n",
       "  </thead>\n",
       "  <tbody>\n",
       "    <tr>\n",
       "      <th>0</th>\n",
       "      <td>Enna da ellam avan seyal  Mari iruku</td>\n",
       "      <td>0</td>\n",
       "    </tr>\n",
       "    <tr>\n",
       "      <th>1</th>\n",
       "      <td>This movei is just like  ellam avan seyal</td>\n",
       "      <td>0</td>\n",
       "    </tr>\n",
       "    <tr>\n",
       "      <th>2</th>\n",
       "      <td>Padam vanthathum 13k dislike pottavaga yellam...</td>\n",
       "      <td>0</td>\n",
       "    </tr>\n",
       "    <tr>\n",
       "      <th>3</th>\n",
       "      <td>Neraya neraya neraya... ... V era level...thala</td>\n",
       "      <td>0</td>\n",
       "    </tr>\n",
       "    <tr>\n",
       "      <th>4</th>\n",
       "      <td>wow thavala sema mass....padam oru pundaikum ...</td>\n",
       "      <td>1</td>\n",
       "    </tr>\n",
       "    <tr>\n",
       "      <th>...</th>\n",
       "      <td>...</td>\n",
       "      <td>...</td>\n",
       "    </tr>\n",
       "    <tr>\n",
       "      <th>4995</th>\n",
       "      <td>Màráñã Mass ..... Thalaivaaa .    Sweet edung...</td>\n",
       "      <td>1</td>\n",
       "    </tr>\n",
       "    <tr>\n",
       "      <th>4996</th>\n",
       "      <td>Sirapana tharamana sambavam Iruku Ponugaluku....</td>\n",
       "      <td>0</td>\n",
       "    </tr>\n",
       "    <tr>\n",
       "      <th>4997</th>\n",
       "      <td>Athana haters um odi poidunga , illa adichi u...</td>\n",
       "      <td>0</td>\n",
       "    </tr>\n",
       "    <tr>\n",
       "      <th>4998</th>\n",
       "      <td>Sweet sapta porom....last dance semma</td>\n",
       "      <td>1</td>\n",
       "    </tr>\n",
       "    <tr>\n",
       "      <th>4999</th>\n",
       "      <td>Thalaivar varrarru... Podiyanugkellam odidu.....</td>\n",
       "      <td>0</td>\n",
       "    </tr>\n",
       "  </tbody>\n",
       "</table>\n",
       "<p>5000 rows × 2 columns</p>\n",
       "</div>"
      ],
      "text/plain": [
       "                                               Comments  sub\n",
       "0                  Enna da ellam avan seyal  Mari iruku    0\n",
       "1             This movei is just like  ellam avan seyal    0\n",
       "2      Padam vanthathum 13k dislike pottavaga yellam...    0\n",
       "3       Neraya neraya neraya... ... V era level...thala    0\n",
       "4      wow thavala sema mass....padam oru pundaikum ...    1\n",
       "...                                                 ...  ...\n",
       "4995   Màráñã Mass ..... Thalaivaaa .    Sweet edung...    1\n",
       "4996   Sirapana tharamana sambavam Iruku Ponugaluku....    0\n",
       "4997   Athana haters um odi poidunga , illa adichi u...    0\n",
       "4998              Sweet sapta porom....last dance semma    1\n",
       "4999   Thalaivar varrarru... Podiyanugkellam odidu.....    0\n",
       "\n",
       "[5000 rows x 2 columns]"
      ]
     },
     "execution_count": 28,
     "metadata": {},
     "output_type": "execute_result"
    }
   ],
   "source": [
    "Subjectivity"
   ]
  },
  {
   "cell_type": "code",
   "execution_count": 29,
   "id": "76258fc7",
   "metadata": {},
   "outputs": [
    {
     "name": "stdout",
     "output_type": "stream",
     "text": [
      "(5000, 2500)\n",
      "['00', '01', '02', '03', '04', '05', '06', '07', '08', '10', '100', '1000', '100k', '102k', '10k', '10m', '10million', '11', '11m', '12', '13', '135k', '13million', '14', '15', '150k', '15m', '16', '17', '18', '19', '1k', '1m', '1million', '1st', '20', '2000', '200k', '2018', '2019', '2020', '20m', '21', '23', '24', '25', '250', '25k', '26k', '28', '28k', '29', '29k', '2k', '2k19', '2m', '2point0', '30', '300', '31', '314k', '33', '33k', '34', '35', '36', '37', '38', '39', '39k', '3d', '3k', '3m', '40', '400', '42', '43k', '44k', '45', '47', '48', '4d', '50', '500', '500k', '50k', '52', '53', '54', '55', '56', '580k', '5m', '60', '63', '64', '67', '68', '69', '6m', '70', '700k', '74k', '775k', '776', '777k', '7k', '80', '800', '800k', '80k', '80s', '82k', '8m', '90', '90s', '91k', '92k', '96', 'aa', 'aaa', 'aaaa', 'aaaaaa', 'aaana', 'aachi', 'aachu', 'aadukalam', 'aadum', 'aaga', 'aagala', 'aaganum', 'aagathu', 'aagudhu', 'aagum', 'aaguma', 'aagumnu', 'aaguthu', 'aah', 'aairuku', 'aala', 'aalu', 'aama', 'aamai', 'aana', 'aanalum', 'aarambam', 'aasuran', 'aatam', 'aatatha', 'aattatha', 'aavathu', 'aaya', 'aayegi', 'ab', 'abhay', 'abirami', 'about', 'accept', 'acha', 'achha', 'achi', 'achu', 'act', 'acting', 'action', 'actor', 'actors', 'actually', 'ad', 'ada', 'adangaatha', 'adchi', 'add', 'adei', 'adha', 'adhe', 'adhigama', 'adhu', 'adhukku', 'adhuku', 'adi', 'adicha', 'adichi', 'adichu', 'adichutan', 'adika', 'adikanum', 'admin', 'adra', 'adu', 'adutha', 'aduthavan', 'aduthu', 'adv', 'aey', 'after', 'aga', 'again', 'agala', 'agathu', 'age', 'agree', 'agudhu', 'agum', 'agumnu', 'aguthu', 'ah', 'ahh', 'ahhh', 'aiyo', 'aiyoo', 'ajit', 'ajith', 'ak', 'akki', 'akshay', 'ala', 'alagum', 'alavukku', 'alavuku', 'all', 'allu', 'already', 'also', 'always', 'am', 'ama', 'amazing', 'amitab', 'amitabh', 'amma', 'amy', 'an', 'ana', 'and', 'andha', 'andhra', 'andra', 'anga', 'anil', 'anils', 'anirudh', 'aniruth', 'anna', 'annan', 'anne', 'announcement', 'another', 'antha', 'any', 'anyone', 'ap', 'apa', 'apadi', 'aparam', 'apdi', 'apdilam', 'apdiya', 'apdiyae', 'apdiye', 'apo', 'appa', 'appo', 'appuram', 'apram', 'aprm', 'apuram', 'ar', 'arasiyal', 'are', 'arjun', 'arr', 'as', 'asa', 'asinga', 'asingam', 'asingapaduthringa', 'asingapaduthuringa', 'asuran', 'at', 'atha', 'athan', 'athigama', 'athu', 'athukku', 'athuku', 'athula', 'atleast', 'atlee', 'attatha', 'aug', 'august', 'aur', 'ava', 'avalo', 'avan', 'avanga', 'avar', 'avara', 'avaroda', 'average', 'avlo', 'avunga', 'award', 'awesome', 'awsome', 'ayaz', 'aye', 'ayyo', 'ayyyo', 'ba', 'baad', 'baadu', 'baap', 'babu', 'bachan', 'back', 'background', 'bad', 'bahubali', 'balan', 'balance', 'bangam', 'bap', 'bat', 'batman', 'bayam', 'bayama', 'bayangaram', 'bayanthu', 'be', 'beat', 'because', 'best', 'bestu', 'better', 'bgm', 'bha', 'bhai', 'bhi', 'big', 'bigboss', 'bigg', 'biggest', 'bigil', 'bigilu', 'black', 'blank', 'block', 'blockbuster', 'blood', 'bloods', 'blowing', 'blue', 'bollywood', 'bomma', 'book', 'boss', 'boys', 'bravo', 'break', 'bro', 'budget', 'buildup', 'buster', 'but', 'button', 'by', 'camera', 'can', 'cartoon', 'case', 'cell', 'certificate', 'cha', 'chance', 'change', 'channel', 'character', 'chechi', 'chennai', 'chicken', 'chidambaram', 'chinna', 'chitti', 'chiyaan', 'chiyan', 'chumma', 'chutiya', 'cinema', 'cinematography', 'clash', 'class', 'climax', 'cm', 'cmnt', 'cmt', 'combination', 'combo', 'come', 'comedy', 'coming', 'comment', 'comments', 'compare', 'concept', 'confirm', 'conform', 'congrats', 'content', 'control', 'copy', 'correct', 'court', 'crime', 'crore', 'cross', 'cs', 'cut', 'cute', 'cvf', 'da', 'daa', 'daaa', 'daaaaa', 'dae', 'dai', 'daii', 'daily', 'dan', 'dance', 'dangal', 'danush', 'darbar', 'dark', 'date', 'daw', 'daww', 'day', 'days', 'de', 'dear', 'deepavali', 'deepavalikku', 'deepawali', 'dei', 'dekh', 'dekho', 'delivery', 'deol', 'dha', 'dhaan', 'dhan', 'dhana', 'dhanush', 'dharisanam', 'dialog', 'dialogue', 'dialogues', 'did', 'die', 'different', 'direction', 'director', 'dis', 'dislike', 'dislikers', 'dislikes', 'diwali', 'diwaliku', 'diya', 'do', 'don', 'done', 'dont', 'doubt', 'dr', 'du', 'dub', 'dubbed', 'dubbing', 'eagerly', 'ean', 'edhir', 'edho', 'edhu', 'edit', 'edu', 'eduka', 'edukka', 'edutha', 'eduthu', 'eduthukuvanunga', 'effect', 'eh', 'ek', 'ela', 'elam', 'ella', 'ellaam', 'ellaarum', 'ellam', 'ellarayum', 'ellarukum', 'ellarum', 'en', 'ena', 'enada', 'enakku', 'enaku', 'end', 'enda', 'endha', 'ending', 'energy', 'enga', 'engada', 'engaluku', 'engayo', 'english', 'enka', 'enn', 'enna', 'ennada', 'ennai', 'ennaku', 'ennamo', 'ennangada', 'ennanu', 'ennna', 'ennoda', 'enough', 'enrum', 'entha', 'entry', 'epa', 'epadi', 'epdi', 'epo', 'eppa', 'eppadi', 'eppavum', 'eppavume', 'eppo', 'eppudi', 'epudi', 'eruke', 'erukinga', 'erukinge', 'erukku', 'eruku', 'erukum', 'eruntha', 'etha', 'ethana', 'ethavathu', 'ethir', 'etho', 'ethu', 'ethuku', 'ethula', 'evalo', 'evan', 'evanavathu', 'evanda', 'evanum', 'even', 'ever', 'evlo', 'expect', 'fabulous', 'fake', 'family', 'fan', 'fans', 'fanz', 'fanzz', 'fast', 'favorite', 'fdfs', 'feel', 'feeling', 'fight', 'film', 'final', 'finishing', 'fire', 'first', 'flim', 'flop', 'for', 'forever', 'form', 'frame', 'free', 'friends', 'frnds', 'from', 'fuck', 'full', 'fulla', 'funny', 'ga', 'gaandu', 'gala', 'game', 'gandla', 'gandu', 'gandula', 'gang', 'gaya', 'gaye', 'get', 'gethu', 'gets', 'getup', 'ghatiya', 'ghibran', 'gibran', 'girls', 'give', 'go', 'god', 'going', 'gommala', 'gonna', 'good', 'goosebumps', 'gotha', 'gr8', 'grandpa', 'graphics', 'great', 'gta', 'gud', 'guys', 'gv', 'gvp', 'gya', 'ha', 'haa', 'haasan', 'had', 'haha', 'hahaha', 'hai', 'hain', 'hair', 'hand', 'handsome', 'hang', 'happen', 'happy', 'hard', 'hardwork', 'harris', 'hassan', 'hat', 'hate', 'hater', 'haters', 'hats', 'have', 'he', 'head', 'headphone', 'heavy', 'hello', 'hence', 'her', 'here', 'hero', 'heroine', 'herova', 'hey', 'hi', 'him', 'hindi', 'his', 'hit', 'hits', 'hmm', 'ho', 'hogi', 'hollywood', 'hone', 'hoo', 'hoon', 'hope', 'hostel', 'hours', 'hoursku', 'how', 'hrs', 'hu', 'iam', 'ida', 'idea', 'idha', 'idhala', 'idhe', 'idhu', 'idhuku', 'idhula', 'iereke', 'if', 'iku', 'ila', 'ilaaa', 'ilama', 'ilanu', 'ilaya', 'illa', 'illadha', 'illai', 'illaiya', 'illama', 'illana', 'illatha', 'illaya', 'illayanu', 'illaye', 'ille', 'im', 'in', 'inaiku', 'inda', 'indha', 'indhe', 'india', 'indian', 'indirect', 'inga', 'inge', 'ini', 'inimae', 'inime', 'inimel', 'inimey', 'innaikku', 'innaikulla', 'inniki', 'innorthara', 'innoru', 'innoruthara', 'innorutharai', 'innoruthare', 'innu', 'innum', 'inorthara', 'inoruthar', 'inoruthara', 'interesting', 'international', 'interview', 'intha', 'inthamari', 'into', 'inu', 'inum', 'invincible', 'iooo', 'ipadi', 'ipdi', 'ipdina', 'ipidi', 'ipo', 'ippa', 'ippadi', 'ippave', 'ippo', 'ipti', 'irku', 'irkum', 'iron', 'ironman', 'irrukanga', 'irrukaru', 'irruku', 'iru', 'iruk', 'iruka', 'irukaen', 'irukainga', 'irukalam', 'irukan', 'irukanga', 'irukanuga', 'irukanum', 'irukar', 'irukaru', 'iruke', 'irukeenga', 'irukeengala', 'iruken', 'irukinga', 'irukka', 'irukkan', 'irukkaru', 'irukke', 'irukken', 'irukkey', 'irukkinga', 'irukku', 'irukkum', 'irukkura', 'irukom', 'iruku', 'irukum', 'irukumo', 'irukunu', 'irukura', 'irukuravanga', 'irukuuu', 'irul', 'irumugan', 'irundha', 'irundhu', 'iruntha', 'irunthalum', 'irunthu', 'irutha', 'is', 'it', 'item', 'itha', 'ithan', 'ithana', 'ithanda', 'ithellam', 'ithu', 'ithukku', 'ithuku', 'ithula', 'itna', 'its', 'ivalo', 'ivan', 'ivana', 'ivara', 'ivaru', 'ivaruku', 'ivlo', 'jaadhi', 'jackson', 'jai', 'jaldi', 'jalra', 'jan', 'january', 'jathi', 'jay', 'jaye', 'ji', 'jithu', 'jo', 'job', 'john', 'joker', 'july', 'just', 'juz', 'ka', 'kaadu', 'kaaga', 'kaal', 'kaala', 'kaali', 'kaaliyoda', 'kaandula', 'kaanom', 'kaari', 'kaasu', 'kaata', 'kaathirukku', 'kaathu', 'kaati', 'kaatradhukaga', 'kaatraru', 'kaatrathukaaga', 'kaatrathukaga', 'kaatu', 'kab', 'kabali', 'kadaisi', 'kadaisila', 'kadaram', 'kadasi', 'kadavul', 'kadavulay', 'kadha', 'kadhai', 'kaga', 'kagave', 'kaha', 'kai', 'kaidhi', 'kaila', 'kaithi', 'kaithidiwali', 'kakki', 'kal', 'kala', 'kalathula', 'kali', 'kalichi', 'kaliyoda', 'kalla', 'kalyan', 'kamal', 'kami', 'kammiya', 'kan', 'kanagaraj', 'kanakaraj', 'kanan', 'kanda', 'kandipa', 'kandippa', 'kandu', 'kandula', 'kanna', 'kannada', 'kannadigas', 'kannu', 'kanom', 'kanth', 'kar', 'karan', 'karanama', 'karnataka', 'karo', 'karthi', 'karthick', 'karthik', 'karumam', 'karupu', 'kasu', 'kata', 'katha', 'kathai', 'kathaya', 'kathi', 'kaththi', 'katra', 'katradhukaga', 'katrathukaga', 'katta', 'kattanum', 'kattha', 'kattrathukaga', 'kattu', 'kattuthu', 'katura', 'katurathukaga', 'kavalom', 'kb', 'ke', 'kedacha', 'kedikum', 'keep', 'keka', 'kekura', 'kela', 'kelambu', 'kelattu', 'kelatu', 'keluthu', 'kelvi', 'kena', 'kene', 'kerala', 'keta', 'ketta', 'kettu', 'ketutu', 'kevala', 'kevalam', 'kevalama', 'kgf', 'khiladi', 'ki', 'kiccha', 'kick', 'kidaiyathu', 'kids', 'kilaputhu', 'kill', 'killing', 'king', 'kis', 'kisi', 'kita', 'kitta', 'kitte', 'kiya', 'kk', 'kku', 'knight', 'know', 'ko', 'kochadaiyan', 'koda', 'kodhuthu', 'kodi', 'koduma', 'kodumai', 'kodutha', 'koi', 'kola', 'kolai', 'kolama', 'kolamass', 'kolandha', 'kolaveri', 'kolla', 'kollama', 'kollywood', 'kon', 'koncham', 'konda', 'kondan', 'kondu', 'konjam', 'koo', 'kooda', 'koodadhu', 'koodalam', 'koodathu', 'koodiya', 'koola', 'koothi', 'kora', 'korukuntunnanu', 'kosam', 'kovitha', 'kr', 'krish', 'ku', 'kuch', 'kuda', 'kudaathu', 'kudathu', 'kude', 'kudhicha', 'kuduthu', 'kula', 'kulla', 'kum', 'kumar', 'kunjay', 'kunju', 'kunjugal', 'kusuvasam', 'kuthu', 'kutti', 'kuttu', 'kutty', 'kya', 'kyu', 'la', 'laa', 'laaam', 'laam', 'laan', 'lady', 'lag', 'laga', 'lagi', 'lagta', 'lah', 'lai', 'lakhs', 'lam', 'lama', 'language', 'lanka', 'last', 'late', 'lavadhu', 'laval', 'lavel', 'lawyer', 'layae', 'laye', 'le', 'leak', 'leave', 'leavel', 'lebih', 'legend', 'legendary', 'leh', 'lekin', 'lena', 'let', 'lets', 'leval', 'level', 'life', 'like', 'liked', 'likes', 'liks', 'line', 'link', 'lion', 'list', 'lit', 'lite', 'liye', 'lk', 'll', 'lla', 'lo', 'loaded', 'loading', 'local', 'log', 'logesh', 'logic', 'logo', 'lokesh', 'lol', 'long', 'look', 'looka', 'looking', 'looks', 'loose', 'lot', 'lots', 'love', 'loved', 'lovely', 'lu', 'luck', 'lusu', 'luv', 'lv', 'lvl', 'lyca', 'lying', 'lyk', 'lyrics', 'ma', 'maa', 'maaaaaassss', 'maadhiri', 'maan', 'maar', 'maaran', 'maari', 'maariyae', 'maariye', 'maaru', 'maas', 'maass', 'maasss', 'maassss', 'maathiri', 'maathri', 'macha', 'machi', 'madhiri', 'madhri', 'madiri', 'madri', 'madurai', 'magic', 'magnum', 'maha', 'mahesh', 'mai', 'main', 'maintain', 'mairu', 'maja', 'make', 'maker', 'makes', 'makeup', 'making', 'makkal', 'malay', 'malayalam', 'malayalikal', 'malaysia', 'malaysian', 'mam', 'mammootty', 'man', 'manasa', 'manasu', 'mani', 'maniku', 'manju', 'manna', 'mannavadhu', 'manusan', 'manushan', 'many', 'mara', 'maran', 'marana', 'maranaa', 'maranaaaaa', 'maranam', 'maranama', 'maranao', 'maranthu', 'mari', 'mark', 'marri', 'maru', 'marubadiyum', 'marupadiyum', 'marvel', 'mask', 'mass', 'massa', 'masses', 'masss', 'masssa', 'massss', 'masssss', 'massssss', 'masssssss', 'massssssss', 'masssssssssssssss', 'massu', 'mataru', 'match', 'maten', 'matha', 'mathapadi', 'mathavangala', 'mathiri', 'mathri', 'mathum', 'mathunga', 'matram', 'matta', 'mattu', 'mattum', 'mattume', 'mattumtha', 'matum', 'mavan', 'mavana', 'mavane', 'max', 'maximum', 'may', 'me', 'meala', 'means', 'mega', 'mein', 'mela', 'mele', 'men', 'mera', 'meratal', 'mere', 'mersal', 'message', 'mgr', 'milion', 'militry', 'million', 'min', 'mind', 'minja', 'minute', 'minutes', 'miratta', 'miss', 'missing', 'mithran', 'mix', 'mm', 'mo', 'mobile', 'mode', 'modified', 'modify', 'mohanlal', 'moka', 'mokka', 'mokkai', 'mokkaiya', 'mokkaya', 'mom', 'moment', 'money', 'moonji', 'more', 'morning', 'mosam', 'most', 'mothala', 'mothi', 'motion', 'move', 'movei', 'movie', 'moviea', 'movies', 'mr', 'mrana', 'much', 'mudi', 'mudila', 'mudinju', 'mudium', 'mudiya', 'mudiyadhu', 'mudiyala', 'mudiyatha', 'mudiyathu', 'mudiyum', 'mugam', 'mugamoodi', 'mugan', 'mujhe', 'mukka', 'mukki', 'mukkiyamana', 'mukkudhu', 'munadi', 'munji', 'munnadi', 'munnadiye', 'murai', 'music', 'musical', 'must', 'mutta', 'muttu', 'my', 'na', 'naa', 'naal', 'naala', 'naalaiku', 'naan', 'naanga', 'naangalum', 'naanum', 'nadaka', 'nadakadhu', 'nadakathu', 'nadakka', 'nadakum', 'nadigar', 'nadika', 'nadikka', 'nadippin', 'nadipu', 'nadu', 'nahi', 'nai', 'nailed', 'nal', 'nala', 'nalaiku', 'nalla', 'nallaa', 'nama', 'namakku', 'namaku', 'namba', 'name', 'namma', 'nan', 'nanba', 'nanga', 'nangalum', 'nanum', 'naraiya', 'naraya', 'nariya', 'national', 'nawaz', 'nawazuddin', 'nayagan', 'nd', 'ne', 'nee', 'need', 'neega', 'neenga', 'nenacha', 'nenache', 'nenachu', 'nenga', 'ner', 'nera', 'neraiya', 'neram', 'nerama', 'neraya', 'neriya', 'nerkonda', 'nerkondapaarvai', 'nerkondapaarvaitrailer', 'nerunga', 'never', 'new', 'news', 'next', 'nhi', 'ni', 'nice', 'night', 'nikkuthu', 'ninaikiravanga', 'niraiya', 'niraya', 'niriya', 'nkp', 'no', 'no1', 'nokki', 'not', 'note', 'now', 'ntr', 'nu', 'number', 'oda', 'odathu', 'odi', 'of', 'off', 'oh', 'ok', 'old', 'omg', 'ommala', 'on', 'one', 'only', 'onnu', 'onnum', 'onum', 'ooda', 'oottruparu', 'opening', 'or', 'orama', 'ore', 'oru', 'oruthan', 'oruthar', 'oruthavanga', 'oscar', 'osm', 'otha', 'othingiru', 'our', 'out', 'over', 'overloaded', 'ovvoru', 'owner', 'pa', 'paa', 'paaa', 'paaaa', 'paaka', 'paakalam', 'paakka', 'paapa', 'paarka', 'paarthu', 'paaru', 'paarunga', 'paarungada', 'paarvai', 'paatha', 'paathu', 'paathutu', 'paavam', 'pada', 'padam', 'padama', 'padatha', 'padathu', 'padathukku', 'padathuku', 'padathula', 'padayappa', 'padipa', 'padippa', 'padippu', 'padipu', 'pado', 'paduthiringa', 'paduthuringa', 'pah', 'paiyan', 'paji', 'paka', 'pakalam', 'pakanum', 'pakanumnu', 'pakara', 'pakathana', 'pakka', 'pakkaaa', 'pakkalam', 'pakkam', 'pakkama', 'pakkanum', 'pakkathana', 'pakkava', 'pakkka', 'pakkum', 'pakkura', 'pakravanga', 'pakura', 'pakuran', 'pakurathu', 'pakurathuku', 'pakuravanga', 'pallu', 'pana', 'panam', 'pananum', 'pande', 'pandey', 'pandra', 'pandravanga', 'pandringa', 'pangaaligala', 'pangalinga', 'pangalingala', 'pangu', 'pani', 'paninga', 'panitu', 'panna', 'pannala', 'pannalam', 'pannanum', 'pannavan', 'pannavanga', 'pannavanlam', 'panne', 'panni', 'panninga', 'pannirukalam', 'pannirukaru', 'pannittu', 'pannitu', 'pannu', 'pannuga', 'pannum', 'pannuna', 'pannunga', 'pannungada', 'pannunka', 'pannuvanga', 'panra', 'panraano', 'panradhu', 'panranga', 'panraru', 'panravan', 'panravanga', 'panringa', 'pans', 'panu', 'panuga', 'panunga', 'panuravanga', 'panuvom', 'papa', 'papan', 'papen', 'papom', 'pappom', 'paraak', 'parak', 'parakk', 'parakum', 'parava', 'paravala', 'parikka', 'pariyerum', 'parka', 'parkuravanga', 'part', 'partha', 'parthu', 'parthutu', 'paru', 'parunga', 'parungadaa', 'paruthiveeran', 'parvai', 'pasanga', 'pasangala', 'patha', 'pathalum', 'pathavaga', 'pathavanga', 'pathe', 'pathi', 'pathila', 'pathinga', 'pathingiru', 'pathiya', 'pathiyin', 'paththaathu', 'paththathu', 'pathu', 'pathukuren', 'pathutan', 'pathute', 'pathuttu', 'pathutu', 'patta', 'pattaiya', 'patthu', 'pause', 'pavam', 'pawan', 'payan', 'payum', 'pe', 'people', 'pepper', 'per', 'pera', 'performance', 'periya', 'peru', 'perumai', 'perumal', 'peta', 'petta', 'phone', 'picture', 'pink', 'piragu', 'play', 'please', 'pls', 'plus', 'plz', 'pm', 'po', 'poda', 'podanum', 'podhu', 'podhum', 'podra', 'podu', 'poduga', 'podunga', 'podunge', 'poga', 'poganum', 'pogudhu', 'poguthu', 'poi', 'point', 'poiru', 'poittu', 'poitu', 'pola', 'polaye', 'polla', 'pondati', 'ponga', 'pongal', 'pongalukku', 'pongaluku', 'poolu', 'poor', 'pora', 'poram', 'poramai', 'poran', 'poranthu', 'poraru', 'pore', 'poren', 'poringa', 'poro', 'porom', 'possible', 'poster', 'pota', 'pothu', 'pothum', 'potta', 'pottu', 'pottutu', 'potu', 'power', 'powerful', 'prakash', 'pride', 'proud', 'proved', 'pudicha', 'pudichavanga', 'pudikum', 'punch', 'punda', 'pundai', 'puriyala', 'put', 'pwoli', 'question', 'ra', 'raa', 'raajali', 'rage', 'raha', 'rahi', 'rahman', 'rahuman', 'raja', 'rajani', 'rajanikanth', 'rajini', 'rajinified', 'rajinikant', 'rajinikanth', 'rajni', 'rajnified', 'rajnikant', 'rajnikanth', 'ram', 'rangaraj', 'range', 'rangers', 'ranjith', 'rap', 'rasigan', 'rasiganda', 'rasigar', 'rasigargal', 'rasika', 'ratchasan', 'ratham', 'rathangale', 're', 'reach', 'reached', 'ready', 'readya', 'real', 'really', 'reason', 'record', 'records', 'release', 'reloaded', 'remake', 'reminds', 'rendu', 'repeat', 'replace', 'reply', 'revenge', 'review', 'rha', 'rhi', 'rhs', 'rip', 'rmba', 'road', 'robo', 'robot', 'rock', 'rocker', 'rocking', 'rocks', 'role', 'roll', 'roma', 'romba', 'rombha', 'rompa', 'sa', 'saaganum', 'saaho', 'saami', 'saamy', 'saapda', 'saava', 'saavalam', 'saavan', 'saavanu', 'saavanum', 'saavungada', 'sab', 'sachin', 'sad', 'saga', 'saganum', 'sahoo', 'said', 'sakthi', 'sakthimaan', 'sakthiman', 'salt', 'salute', 'sam', 'sama', 'samajh', 'sambavam', 'sambavangala', 'sambavatha', 'sambhavam', 'same', 'samjh', 'samma', 'sammaya', 'samrat', 'samy', 'san', 'sana', 'sanda', 'sandai', 'sanga', 'sangu', 'sankar', 'sapada', 'sapda', 'sara', 'saran', 'saravedi', 'sarbaga', 'sari', 'sariya', 'sariyana', 'sarkar', 'sasi', 'sasikumar', 'sathanai', 'sathiyama', 'sathyama', 'sattai', 'savanum', 'sawai', 'say', 'saya', 'says', 'scene', 'scenes', 'school', 'screen', 'screenla', 'screenplay', 'screens', 'script', 'se', 'seamma', 'sec', 'second', 'seconds', 'section', 'see', 'seeing', 'seekiram', 'seeman', 'seems', 'seen', 'selvan', 'selven', 'sema', 'semaa', 'semaya', 'semma', 'semmaa', 'semmaaaaaa', 'semmaiya', 'semmaya', 'semme', 'semmma', 'semmmmma', 'senji', 'sentiment', 'seri', 'serial', 'serupadi', 'seruppadi', 'set', 'sethu', 'sethupathi', 'seyal', 'shakthi', 'shakthiman', 'shankar', 'share', 'sharp', 'she', 'shit', 'shivaji', 'shoot', 'short', 'shot', 'show', 'shraddha', 'siddiqui', 'side', 'sila', 'simbu', 'simple', 'simran', 'sindhika', 'singapore', 'single', 'sink', 'sinna', 'sinthika', 'sinthikiravan', 'sir', 'sirandha', 'sirapana', 'sirappaana', 'sirappana', 'sirichavanga', 'sister', 'siva', 'sivaji', 'sivakarthikeyan', 'sivakumar', 'sk', 'slow', 'smile', 'so', 'social', 'sola', 'soldra', 'soldravanga', 'soli', 'solitu', 'solla', 'sollala', 'sollama', 'sollanumna', 'sollava', 'solldravanga', 'solli', 'sollitu', 'sollu', 'sollum', 'sollunga', 'solluravanga', 'solra', 'solrathu', 'solrathuku', 'solrathukune', 'solravanga', 'solravangala', 'solren', 'some', 'something', 'song', 'songs', 'sonna', 'sonnalum', 'soo', 'soon', 'sooo', 'sooriya', 'sorry', 'sotta', 'sound', 'south', 'spd', 'speak', 'speech', 'speed', 'spider', 'spr', 'sri', 'srilanka', 'srilankan', 'srinath', 'standard', 'star', 'starkku', 'stars', 'start', 'started', 'starting', 'starts', 'step', 'still', 'stop', 'story', 'str', 'students', 'stunning', 'stupid', 'style', 'stylish', 'stylum', 'su', 'subbaraj', 'subburaj', 'subscribe', 'such', 'suda', 'sudeep', 'sugar', 'suit', 'suma', 'sumara', 'summa', 'summava', 'sunni', 'sunny', 'supar', 'super', 'supera', 'superb', 'superhit', 'superman', 'superrr', 'superstar', 'supper', 'support', 'suppuraj', 'sure', 'suriya', 'surya', 'suthi', 'suthum', 'suyama', 'swag', 'sweet', 'ta', 'tahu', 'taiwan', 'tak', 'takar', 'takkar', 'tala', 'talaiva', 'talaivar', 'talant', 'tamil', 'tamilan', 'tamilnadu', 'tamilrockers', 'tamizhan', 'tan', 'tapsee', 'target', 'taste', 'tat', 'tau', 'team', 'teaser', 'teejay', 'telangana', 'telugu', 'tendulkar', 'tenkasi', 'tha', 'thaa', 'thaaa', 'thaan', 'thaana', 'thaanda', 'thaane', 'thaaru', 'thaathaa', 'thadava', 'thagida', 'thailava', 'thailavar', 'thairiyama', 'thakida', 'thala', 'thalaa', 'thalaaa', 'thalaaaa', 'thalaaaaa', 'thalaaaaaa', 'thalaaaaaaaa', 'thalaaaaaaaaa', 'thalaaaaaaaaaaaaa', 'thalai', 'thalaiku', 'thalaiva', 'thalaivaa', 'thalaivaaa', 'thalaivaaaa', 'thalaivaaaaa', 'thalaivaaaaaa', 'thalaivaaaaaaa', 'thalaivaaaaaaaa', 'thalaivaaaaaaaaa', 'thalaivaaaaaaaaaa', 'thalaivaaaaaaaaaaa', 'thalaivaaaaaaaaaaaa', 'thalaivaaaaaaaaaaaaaaaaaaaa', 'thalaivaaaaaaaaaaaaaaaaaaaaaa', 'thalaivan', 'thalaivar', 'thalaivara', 'thalaivare', 'thalaivaroda', 'thalaivarr', 'thalaivaru', 'thalaivaruku', 'thalaiver', 'thalaiya', 'thalapathay', 'thalapathi', 'thalapathy', 'thalapathy64', 'thalavar', 'thalaya', 'thale', 'thaliva', 'thalivaa', 'thalivaaa', 'thalivaaaa', 'thalivar', 'thambi', 'than', 'thana', 'thanda', 'thane', 'thanga', 'thaniya', 'thank', 'thanks', 'thanmanathaiyum', 'thann', 'thappa', 'thara', 'tharama', 'tharamaama', 'tharamaana', 'tharamana', 'tharanum', 'tharisanam', 'tharu', 'that', 'thatra', 'thatta', 'thatti', 'thattunga', 'thavira', 'thayavu', 'thayoli', 'the', 'theater', 'theatre', 'thee', 'theivame', 'thekatta', 'theme', 'there', 'theridhu', 'therika', 'therikka', 'therikkuthu', 'therikuthu', 'therila', 'therinja', 'therium', 'theriyala', 'theriyudhu', 'theriyum', 'theriyuthu', 'therla', 'theva', 'thevai', 'thevidiya', 'think', 'thirumba', 'thirunelveli', 'this', 'thonuthu', 'thookalamaa', 'thooku', 'thotta', 'thu', 'thuku', 'thumbnail', 'ticket', 'tik', 'time', 'times', 'title', 'to', 'today', 'too', 'total', 'touch', 'toughu', 'tq', 'trading', 'trailar', 'trailer', 'trailera', 'trailler', 'trailor', 'tralier', 'treat', 'trend', 'trending', 'trisha', 'troll', 'true', 'try', 'tube', 'tunggu', 'tungu', 'tup', 'tv', 'twist', 'u1', 'udane', 'udunga', 'uh', 'ulaga', 'ulla', 'ultimate', 'ultra', 'um', 'umma', 'un', 'unakennapa', 'unaku', 'unga', 'ungala', 'ungalukku', 'ungaluku', 'unlike', 'unmaiyana', 'unna', 'unnoda', 'untuk', 'up', 'update', 'upload', 'ur', 'us', 'use', 'utk', 'uuu', 'uyir', 'va', 'vaa', 'vaaa', 'vaanga', 'vaati', 'vachi', 'vachu', 'vada', 'vadivelu', 'vai', 'vainga', 'vaitherichal', 'valimai', 'valthukal', 'valthukkal', 'vandha', 'vandhavanga', 'vandhinga', 'vandhu', 'vandu', 'vanga', 'vanganum', 'vantha', 'vanthalum', 'vanthavanga', 'vanthinga', 'vanthu', 'vara', 'varadhu', 'varaikkum', 'varaikum', 'varala', 'varanu', 'varanum', 'varathu', 'varatum', 'varinga', 'varla', 'varudhu', 'varum', 'varuma', 'varumnu', 'varusam', 'varusham', 'varuthu', 'varuva', 'vayase', 'vayasu', 'vayasula', 'vayiru', 'veara', 'vechi', 'vechu', 'veera', 'vegam', 'vegama', 'vela', 'veliya', 'vendiyathu', 'venum', 'vera', 'veraa', 'veralevel', 'vere', 'veri', 'verithanam', 'verithanama', 'verithanamana', 'veriyan', 'veriyans', 'veriyarkal', 'verjin', 'verra', 'version', 'very', 'vetri', 'vetrimaaran', 'vetrimaran', 'vetti', 'vettri', 'vey', 'vfx', 'vick', 'vida', 'vidama', 'vidamaten', 'video', 'vidiya', 'vidrom', 'vidu', 'vidunga', 'vidunka', 'vidya', 'view', 'views', 'vijay', 'vijaysethupathi', 'vikram', 'villain', 'vilunthu', 'vinoth', 'vintage', 'virgin', 'vishvasam', 'vishwasam', 'visuals', 'visvasam', 'viswasam', 'vittu', 'vitu', 'vivegam', 'vj', 'vjs', 'voda', 'voice', 'vs', 'vum', 'wait', 'waiting', 'wale', 'wali', 'want', 'warrier', 'waste', 'wat', 'watch', 'watching', 'way', 'we', 'weight', 'welcome', 'well', 'what', 'when', 'who', 'why', 'will', 'win', 'winner', 'wishes', 'with', 'wonderful', 'word', 'words', 'work', 'world', 'worth', 'wow', 'wowww', 'wrong', 'wtf', 'ya', 'yaa', 'yaar', 'yaarellam', 'yaaro', 'yaaru', 'yaarukkellam', 'yaarukkum', 'yaaruku', 'yaarukum', 'yaarum', 'yaarunu', 'yaen', 'yah', 'yaha', 'yaman', 'yan', 'yana', 'yanna', 'yar', 'yaralaa', 'yaravadhu', 'yarda', 'yarellam', 'yarlam', 'yarna', 'yarru', 'yaru', 'yarukagavum', 'yarum', 'yash', 'ye', 'yea', 'yean', 'year', 'years', 'yeduka', 'yeh', 'yella', 'yellam', 'yellarum', 'yeman', 'yen', 'yena', 'yenda', 'yenga', 'yenna', 'yeppa', 'yeppavum', 'yeppo', 'yepppaaaaaaaaaaaa', 'yetha', 'yethir', 'yevlo', 'yo', 'yoda', 'yogi', 'you', 'young', 'your', 'youth', 'youtube', 'youuuuu', 'yov', 'yow', 'yr', 'yum', 'yuvan', 'zee', 'zero', 'zimmer', 'это', 'पर', 'પર', 'அட', 'இன', 'ஒர', 'தர', 'தல', 'தளபத', 'மரண', 'ரம', 'అన', 'తల', 'నయ', 'పర', 'మర', 'లర', 'ಕನ', 'ಕರ', 'ನಮ', 'തല']\n"
     ]
    },
    {
     "name": "stderr",
     "output_type": "stream",
     "text": [
      "C:\\Users\\Priya\\anaconda3\\lib\\site-packages\\sklearn\\utils\\deprecation.py:87: FutureWarning: Function get_feature_names is deprecated; get_feature_names is deprecated in 1.0 and will be removed in 1.2. Please use get_feature_names_out instead.\n",
      "  warnings.warn(msg, category=FutureWarning)\n"
     ]
    }
   ],
   "source": [
    "from sklearn.feature_extraction.text import CountVectorizer\n",
    "\n",
    "cv = CountVectorizer(max_features=2500)\n",
    "X = cv.fit_transform(Subjectivity['Comments'])\n",
    "print(X.shape)\n",
    "print(cv.get_feature_names())"
   ]
  },
  {
   "cell_type": "code",
   "execution_count": 30,
   "id": "80ef32ae",
   "metadata": {},
   "outputs": [],
   "source": [
    "y = Subjectivity['sub']"
   ]
  },
  {
   "cell_type": "code",
   "execution_count": 31,
   "id": "4813591c",
   "metadata": {},
   "outputs": [],
   "source": [
    "from sklearn.model_selection import train_test_split\n",
    "X_train, X_test, y_train, y_test = train_test_split(X, y, test_size = 0.20, random_state = 0)"
   ]
  },
  {
   "cell_type": "code",
   "execution_count": 32,
   "id": "c77b425a",
   "metadata": {},
   "outputs": [
    {
     "data": {
      "text/plain": [
       "((4000, 2500), (1000, 2500), (4000,), (1000,))"
      ]
     },
     "execution_count": 32,
     "metadata": {},
     "output_type": "execute_result"
    }
   ],
   "source": [
    "X_train.shape, X_test.shape, y_train.shape, y_test.shape"
   ]
  },
  {
   "cell_type": "markdown",
   "id": "e1666b66",
   "metadata": {},
   "source": [
    "## Random Forest"
   ]
  },
  {
   "cell_type": "code",
   "execution_count": 33,
   "id": "126be341",
   "metadata": {},
   "outputs": [
    {
     "data": {
      "text/plain": [
       "RandomForestClassifier()"
      ]
     },
     "execution_count": 33,
     "metadata": {},
     "output_type": "execute_result"
    }
   ],
   "source": [
    "from sklearn.ensemble import RandomForestClassifier\n",
    "from sklearn.model_selection import GridSearchCV\n",
    "Classifier = RandomForestClassifier()\n",
    "Classifier.fit(X_train, y_train)"
   ]
  },
  {
   "cell_type": "code",
   "execution_count": 34,
   "id": "a1477025",
   "metadata": {},
   "outputs": [
    {
     "name": "stdout",
     "output_type": "stream",
     "text": [
      "[[754   4]\n",
      " [ 37 205]]\n",
      "0.959\n",
      "              precision    recall  f1-score   support\n",
      "\n",
      "           0       0.95      0.99      0.97       758\n",
      "           1       0.98      0.85      0.91       242\n",
      "\n",
      "    accuracy                           0.96      1000\n",
      "   macro avg       0.97      0.92      0.94      1000\n",
      "weighted avg       0.96      0.96      0.96      1000\n",
      "\n"
     ]
    }
   ],
   "source": [
    "from sklearn.metrics import confusion_matrix\n",
    "from sklearn.metrics import accuracy_score\n",
    "from sklearn.metrics import classification_report\n",
    "y_pred = Classifier.predict(X_test)\n",
    "print(confusion_matrix(y_test,y_pred))\n",
    "print(accuracy_score(y_test,y_pred))\n",
    "print(classification_report(y_test,y_pred))"
   ]
  },
  {
   "cell_type": "code",
   "execution_count": 35,
   "id": "0782e0df",
   "metadata": {},
   "outputs": [],
   "source": [
    "import pickle"
   ]
  },
  {
   "cell_type": "code",
   "execution_count": 36,
   "id": "de2649da",
   "metadata": {},
   "outputs": [],
   "source": [
    "pkl_out=open(\"vectorizer.pkl\", \"wb\")\n",
    "pickle.dump(cv, pkl_out)\n",
    "pkl_out.close()"
   ]
  },
  {
   "cell_type": "code",
   "execution_count": 37,
   "id": "6a99627a",
   "metadata": {},
   "outputs": [],
   "source": [
    "\n",
    "pickle_out = open(\"emotions1.pkl\",\"wb\")\n",
    "loaded_model = pickle.dump(Classifier, pickle_out)\n",
    "pickle_out.close()"
   ]
  },
  {
   "cell_type": "code",
   "execution_count": null,
   "id": "87ed846b",
   "metadata": {},
   "outputs": [],
   "source": []
  },
  {
   "cell_type": "code",
   "execution_count": null,
   "id": "e948dc1c",
   "metadata": {},
   "outputs": [],
   "source": []
  },
  {
   "cell_type": "code",
   "execution_count": null,
   "id": "32831cde",
   "metadata": {},
   "outputs": [],
   "source": []
  },
  {
   "cell_type": "code",
   "execution_count": null,
   "id": "37d9db7a",
   "metadata": {},
   "outputs": [],
   "source": []
  }
 ],
 "metadata": {
  "kernelspec": {
   "display_name": "Python 3 (ipykernel)",
   "language": "python",
   "name": "python3"
  },
  "language_info": {
   "codemirror_mode": {
    "name": "ipython",
    "version": 3
   },
   "file_extension": ".py",
   "mimetype": "text/x-python",
   "name": "python",
   "nbconvert_exporter": "python",
   "pygments_lexer": "ipython3",
   "version": "3.9.13"
  }
 },
 "nbformat": 4,
 "nbformat_minor": 5
}
